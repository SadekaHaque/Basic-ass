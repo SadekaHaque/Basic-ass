{
 "cells": [
  {
   "cell_type": "code",
   "execution_count": 4,
   "metadata": {
    "collapsed": false
   },
   "outputs": [
    {
     "name": "stdout",
     "output_type": "stream",
     "text": [
      "Enter length in centimeter111\n",
      "Length is 0.00111 km\n"
     ]
    }
   ],
   "source": [
    "#1.\tenter length in centimeter and convert it into meter and kilometer.\n",
    "n = float(input(\"Enter length in centimeter\"))\n",
    "l = n/100000\n",
    "print(\"Length is\",l,\"km\")"
   ]
  },
  {
   "cell_type": "code",
   "execution_count": 9,
   "metadata": {
    "collapsed": false
   },
   "outputs": [
    {
     "name": "stdout",
     "output_type": "stream",
     "text": [
      "Enter temperature in Celsius38\n",
      "temperature is 100.4 deegre F\n"
     ]
    }
   ],
   "source": [
    "#2.\tenter temperature in Celsius and convert it into Fahrenheit\n",
    "# c/5 = (f-32)/9\n",
    "c = float(input(\"Enter temperature in Celsius\"))\n",
    "f = ((9*c)/5)+32\n",
    "print(\"temperature is\",f,\"deegre F\")"
   ]
  },
  {
   "cell_type": "code",
   "execution_count": 11,
   "metadata": {
    "collapsed": false
   },
   "outputs": [
    {
     "name": "stdout",
     "output_type": "stream",
     "text": [
      "Enter the base number2\n",
      "Enter the power3\n",
      "8\n"
     ]
    }
   ],
   "source": [
    "#3.\tPython program to find power of any number x ^ y.\n",
    "x = int(input(\"Enter the base number\"))\n",
    "y = int(input(\"Enter the power\"))\n",
    "n = x**y\n",
    "print(n)"
   ]
  },
  {
   "cell_type": "code",
   "execution_count": 2,
   "metadata": {
    "collapsed": false
   },
   "outputs": [
    {
     "name": "stdout",
     "output_type": "stream",
     "text": [
      " Enter a number: 4\n",
      "4  is an even number.\n"
     ]
    }
   ],
   "source": [
    "#4.\tto check whether a number is even or odd using bitwise operator\n",
    "n = int(input((\" Enter a number: \")))\n",
    "rem = n & 1\n",
    "if(rem == 0):\n",
    "    print(n,\" is an even number.\")\n",
    "else:\n",
    "    print(n,\" is an odd number.\")\n",
    "                 "
   ]
  },
  {
   "cell_type": "code",
   "execution_count": 2,
   "metadata": {
    "collapsed": false
   },
   "outputs": [
    {
     "name": "stdout",
     "output_type": "stream",
     "text": [
      "?\n",
      "? is not a alphabate\n"
     ]
    }
   ],
   "source": [
    "#5.\tcheck whether a character is alphabet or not\n",
    "n = input()\n",
    "if n.islower()== True or n.isupper() == True :\n",
    "    print(n,\"is an alphabate\")\n",
    "else:\n",
    "    print(n, \"is not a alphabate\")"
   ]
  },
  {
   "cell_type": "code",
   "execution_count": 6,
   "metadata": {
    "collapsed": false
   },
   "outputs": [
    {
     "name": "stdout",
     "output_type": "stream",
     "text": [
      "2 8 1\n",
      "8  is the largest number between three numbers\n"
     ]
    }
   ],
   "source": [
    "#6.\tto find maximum between three numbers\n",
    "x = input().split(\" \")\n",
    "a = int(x[0])\n",
    "b = int(x[1])\n",
    "c = int(x[2])\n",
    "imax = a\n",
    "if (b > imax) and (b > c):\n",
    "    imax = b\n",
    "elif (c > imax):\n",
    "    imax = c\n",
    "\n",
    "\n",
    "print (imax,\" is the largest number between three numbers\")\n"
   ]
  },
  {
   "cell_type": "code",
   "execution_count": 9,
   "metadata": {
    "collapsed": false
   },
   "outputs": [
    {
     "name": "stdout",
     "output_type": "stream",
     "text": [
      "7 8 -11\n",
      "Root1 0.8062358229989935 Root2 -1.9490929658561365\n",
      "root1 0.8062358229989935 Root2 -1.9490929658561365\n"
     ]
    }
   ],
   "source": [
    "#7.\tto find all roots of a quadratic equation.\n",
    "x = input().split(\" \")\n",
    "a = float(x[0])\n",
    "b = float(x[1])\n",
    "c = float(x[2])\n",
    "\n",
    "d = (b**2) - (4*a*c)\n",
    "\n",
    "if d > 0:\n",
    "    r1 = ((-b) + (d**(1/2)))/(2*a)\n",
    "    r2 = ((-b) - (d**(1/2)))/(2*a)\n",
    "\n",
    "elif d == 0:\n",
    "    r1 = r2 = (-b)/(2*a) \n",
    "\n",
    "else:\n",
    "    realPart = (-b)/(2*a);\n",
    "    imaginaryPart = (-d)/(2*a)\n",
    "    r1 = realPart + imaginaryPart\n",
    "    r2 = realPart - imaginaryPart\n",
    "print(\"Root1\", r1, \"Root2\",r2)\n",
    "\n",
    "    \n",
    "    \n",
    "\n"
   ]
  },
  {
   "cell_type": "code",
   "execution_count": null,
   "metadata": {
    "collapsed": false
   },
   "outputs": [],
   "source": [
    "#8.\tto count number of digits in a number.\n",
    "Number = int(input(\"Please Enter any Number: \"))\n",
    "Count = 0\n",
    "while(Number > 0):\n",
    "    Number = Number // 10\n",
    "    Count = Count + 1\n",
    " \n",
    "\n",
    "print(\"\\n Number of Digits in a Given Number = %d\" %Count)"
   ]
  },
  {
   "cell_type": "code",
   "execution_count": 8,
   "metadata": {
    "collapsed": false
   },
   "outputs": [
    {
     "name": "stdout",
     "output_type": "stream",
     "text": [
      "Enter a string: abccba\n",
      "It is palindrome\n"
     ]
    }
   ],
   "source": [
    "#9.\tto check whether a string is palindrome or not.\n",
    "my_str = input(\"Enter a string: \")\n",
    "\n",
    "rev_str = reversed(my_str)\n",
    "\n",
    "\n",
    "if list(my_str) == list(rev_str):\n",
    "    print(\"It is palindrome\")\n",
    "else:\n",
    "    print(\"It is not palindrome\")"
   ]
  },
  {
   "cell_type": "code",
   "execution_count": 9,
   "metadata": {
    "collapsed": false
   },
   "outputs": [
    {
     "name": "stdout",
     "output_type": "stream",
     "text": [
      "Enter a number: 3\n",
      "The factorial of 3 is 6\n"
     ]
    }
   ],
   "source": [
    "#10.to calculate factorial of a number.\n",
    "num = int(input(\"Enter a number: \"))\n",
    "\n",
    "factorial = 1\n",
    "\n",
    "\n",
    "if num < 0:\n",
    "    print(\"Sorry, factorial does not exist for negative numbers\")\n",
    "elif num == 0:\n",
    "    print(\"The factorial of 0 is 1\")\n",
    "else:\n",
    "    for i in range(1,num + 1):\n",
    "        factorial = factorial*i\n",
    "    print(\"The factorial of\",num,\"is\",factorial)"
   ]
  },
  {
   "cell_type": "code",
   "execution_count": null,
   "metadata": {
    "collapsed": false
   },
   "outputs": [],
   "source": [
    "#11.to print Fibonacci series up to n terms.\n",
    "nterms = int(input(\"How many terms? \"))\n",
    "\n",
    "# first two terms\n",
    "n1 = 0\n",
    "n2 = 1\n",
    "count = 0\n",
    "\n",
    "# check if the number of terms is valid\n",
    "if nterms <= 0:\n",
    "    print(\"Please enter a positive integer\")\n",
    "elif nterms == 1:\n",
    "    print(\"Fibonacci sequence upto\",nterms,\":\")\n",
    "    print(n1)\n",
    "else:\n",
    "    print(\"Fibonacci sequence upto\",nterms,\":\")\n",
    "    while count < nterms:\n",
    "        print(n1,\",\",end='  ')\n",
    "        n3 = n1 + n2\n",
    "        # update values\n",
    "        n1 = n2\n",
    "        n2 = n3\n",
    "        count += 1\n"
   ]
  },
  {
   "cell_type": "code",
   "execution_count": 2,
   "metadata": {
    "collapsed": false,
    "scrolled": true
   },
   "outputs": [
    {
     "name": "stdout",
     "output_type": "stream",
     "text": [
      "Find Strong numbers between 1 to1000\n",
      "1  2  145  "
     ]
    }
   ],
   "source": [
    "#12.\tprint all Strong numbers between 1 to n.\n",
    "import math\n",
    "\n",
    "\n",
    "num = int(input(\"Find Strong numbers between 1 to\" ))\n",
    "\n",
    "for i in range(1,num+1,1):\n",
    "    a = int(i)\n",
    "    summ = int(0)\n",
    "\n",
    "     \n",
    "    while(a > 0):\n",
    "        fact = int(1)\n",
    "        lastDigit =int( a % 10 )\n",
    "        fact=math.factorial(lastDigit)\n",
    "        \n",
    "        summ += fact \n",
    "        a = a//10\n",
    "       \n",
    "    if(summ == i):\n",
    "        print(\"%d \"% i,end =\" \")\n",
    "    "
   ]
  },
  {
   "cell_type": "code",
   "execution_count": 3,
   "metadata": {
    "collapsed": false
   },
   "outputs": [
    {
     "name": "stdout",
     "output_type": "stream",
     "text": [
      "ASCII value of character \u0000 = 0\n",
      "\n",
      "ASCII value of character \u0001 = 1\n",
      "\n",
      "ASCII value of character \u0002 = 2\n",
      "\n",
      "ASCII value of character \u0003 = 3\n",
      "\n",
      "ASCII value of character \u0004 = 4\n",
      "\n",
      "ASCII value of character \u0005 = 5\n",
      "\n",
      "ASCII value of character \u0006 = 6\n",
      "\n",
      "ASCII value of character \u0007 = 7\n",
      "\n",
      "ASCII value of character \b = 8\n",
      "\n",
      "ASCII value of character \t = 9\n",
      "\n",
      "ASCII value of character \n",
      " = 10\n",
      "\n",
      "ASCII value of character \u000b",
      " = 11\n",
      "\n",
      "ASCII value of character \f",
      " = 12\n",
      "\n",
      "ASCII value of character \r",
      " = 13\n",
      "\n",
      "ASCII value of character \u000e = 14\n",
      "\n",
      "ASCII value of character \u000f = 15\n",
      "\n",
      "ASCII value of character \u0010 = 16\n",
      "\n",
      "ASCII value of character \u0011 = 17\n",
      "\n",
      "ASCII value of character \u0012 = 18\n",
      "\n",
      "ASCII value of character \u0013 = 19\n",
      "\n",
      "ASCII value of character \u0014 = 20\n",
      "\n",
      "ASCII value of character \u0015 = 21\n",
      "\n",
      "ASCII value of character \u0016 = 22\n",
      "\n",
      "ASCII value of character \u0017 = 23\n",
      "\n",
      "ASCII value of character \u0018 = 24\n",
      "\n",
      "ASCII value of character \u0019 = 25\n",
      "\n",
      "ASCII value of character \u001a = 26\n",
      "\n",
      "ASCII value of character \u001b = 27\n",
      "\n",
      "ASCII value of character \u001c",
      " = 28\n",
      "\n",
      "ASCII value of character \u001d",
      " = 29\n",
      "\n",
      "ASCII value of character \u001e",
      " = 30\n",
      "\n",
      "ASCII value of character \u001f = 31\n",
      "\n",
      "ASCII value of character   = 32\n",
      "\n",
      "ASCII value of character ! = 33\n",
      "\n",
      "ASCII value of character \" = 34\n",
      "\n",
      "ASCII value of character # = 35\n",
      "\n",
      "ASCII value of character $ = 36\n",
      "\n",
      "ASCII value of character % = 37\n",
      "\n",
      "ASCII value of character & = 38\n",
      "\n",
      "ASCII value of character ' = 39\n",
      "\n",
      "ASCII value of character ( = 40\n",
      "\n",
      "ASCII value of character ) = 41\n",
      "\n",
      "ASCII value of character * = 42\n",
      "\n",
      "ASCII value of character + = 43\n",
      "\n",
      "ASCII value of character , = 44\n",
      "\n",
      "ASCII value of character - = 45\n",
      "\n",
      "ASCII value of character . = 46\n",
      "\n",
      "ASCII value of character / = 47\n",
      "\n",
      "ASCII value of character 0 = 48\n",
      "\n",
      "ASCII value of character 1 = 49\n",
      "\n",
      "ASCII value of character 2 = 50\n",
      "\n",
      "ASCII value of character 3 = 51\n",
      "\n",
      "ASCII value of character 4 = 52\n",
      "\n",
      "ASCII value of character 5 = 53\n",
      "\n",
      "ASCII value of character 6 = 54\n",
      "\n",
      "ASCII value of character 7 = 55\n",
      "\n",
      "ASCII value of character 8 = 56\n",
      "\n",
      "ASCII value of character 9 = 57\n",
      "\n",
      "ASCII value of character : = 58\n",
      "\n",
      "ASCII value of character ; = 59\n",
      "\n",
      "ASCII value of character < = 60\n",
      "\n",
      "ASCII value of character = = 61\n",
      "\n",
      "ASCII value of character > = 62\n",
      "\n",
      "ASCII value of character ? = 63\n",
      "\n",
      "ASCII value of character @ = 64\n",
      "\n",
      "ASCII value of character A = 65\n",
      "\n",
      "ASCII value of character B = 66\n",
      "\n",
      "ASCII value of character C = 67\n",
      "\n",
      "ASCII value of character D = 68\n",
      "\n",
      "ASCII value of character E = 69\n",
      "\n",
      "ASCII value of character F = 70\n",
      "\n",
      "ASCII value of character G = 71\n",
      "\n",
      "ASCII value of character H = 72\n",
      "\n",
      "ASCII value of character I = 73\n",
      "\n",
      "ASCII value of character J = 74\n",
      "\n",
      "ASCII value of character K = 75\n",
      "\n",
      "ASCII value of character L = 76\n",
      "\n",
      "ASCII value of character M = 77\n",
      "\n",
      "ASCII value of character N = 78\n",
      "\n",
      "ASCII value of character O = 79\n",
      "\n",
      "ASCII value of character P = 80\n",
      "\n",
      "ASCII value of character Q = 81\n",
      "\n",
      "ASCII value of character R = 82\n",
      "\n",
      "ASCII value of character S = 83\n",
      "\n",
      "ASCII value of character T = 84\n",
      "\n",
      "ASCII value of character U = 85\n",
      "\n",
      "ASCII value of character V = 86\n",
      "\n",
      "ASCII value of character W = 87\n",
      "\n",
      "ASCII value of character X = 88\n",
      "\n",
      "ASCII value of character Y = 89\n",
      "\n",
      "ASCII value of character Z = 90\n",
      "\n",
      "ASCII value of character [ = 91\n",
      "\n",
      "ASCII value of character \\ = 92\n",
      "\n",
      "ASCII value of character ] = 93\n",
      "\n",
      "ASCII value of character ^ = 94\n",
      "\n",
      "ASCII value of character _ = 95\n",
      "\n",
      "ASCII value of character ` = 96\n",
      "\n",
      "ASCII value of character a = 97\n",
      "\n",
      "ASCII value of character b = 98\n",
      "\n",
      "ASCII value of character c = 99\n",
      "\n",
      "ASCII value of character d = 100\n",
      "\n",
      "ASCII value of character e = 101\n",
      "\n",
      "ASCII value of character f = 102\n",
      "\n",
      "ASCII value of character g = 103\n",
      "\n",
      "ASCII value of character h = 104\n",
      "\n",
      "ASCII value of character i = 105\n",
      "\n",
      "ASCII value of character j = 106\n",
      "\n",
      "ASCII value of character k = 107\n",
      "\n",
      "ASCII value of character l = 108\n",
      "\n",
      "ASCII value of character m = 109\n",
      "\n",
      "ASCII value of character n = 110\n",
      "\n",
      "ASCII value of character o = 111\n",
      "\n",
      "ASCII value of character p = 112\n",
      "\n",
      "ASCII value of character q = 113\n",
      "\n",
      "ASCII value of character r = 114\n",
      "\n",
      "ASCII value of character s = 115\n",
      "\n",
      "ASCII value of character t = 116\n",
      "\n",
      "ASCII value of character u = 117\n",
      "\n",
      "ASCII value of character v = 118\n",
      "\n",
      "ASCII value of character w = 119\n",
      "\n",
      "ASCII value of character x = 120\n",
      "\n",
      "ASCII value of character y = 121\n",
      "\n",
      "ASCII value of character z = 122\n",
      "\n",
      "ASCII value of character { = 123\n",
      "\n",
      "ASCII value of character | = 124\n",
      "\n",
      "ASCII value of character } = 125\n",
      "\n",
      "ASCII value of character ~ = 126\n",
      "\n",
      "ASCII value of character  = 127\n",
      "\n",
      "ASCII value of character  = 128\n",
      "\n",
      "ASCII value of character  = 129\n",
      "\n",
      "ASCII value of character  = 130\n",
      "\n",
      "ASCII value of character  = 131\n",
      "\n",
      "ASCII value of character  = 132\n",
      "\n",
      "ASCII value of character ",
      " = 133\n",
      "\n",
      "ASCII value of character  = 134\n",
      "\n",
      "ASCII value of character  = 135\n",
      "\n",
      "ASCII value of character  = 136\n",
      "\n",
      "ASCII value of character  = 137\n",
      "\n",
      "ASCII value of character  = 138\n",
      "\n",
      "ASCII value of character  = 139\n",
      "\n",
      "ASCII value of character  = 140\n",
      "\n",
      "ASCII value of character  = 141\n",
      "\n",
      "ASCII value of character  = 142\n",
      "\n",
      "ASCII value of character  = 143\n",
      "\n",
      "ASCII value of character  = 144\n",
      "\n",
      "ASCII value of character  = 145\n",
      "\n",
      "ASCII value of character  = 146\n",
      "\n",
      "ASCII value of character  = 147\n",
      "\n",
      "ASCII value of character  = 148\n",
      "\n",
      "ASCII value of character  = 149\n",
      "\n",
      "ASCII value of character  = 150\n",
      "\n",
      "ASCII value of character  = 151\n",
      "\n",
      "ASCII value of character  = 152\n",
      "\n",
      "ASCII value of character  = 153\n",
      "\n",
      "ASCII value of character  = 154\n",
      "\n",
      "ASCII value of character  = 155\n",
      "\n",
      "ASCII value of character  = 156\n",
      "\n",
      "ASCII value of character  = 157\n",
      "\n",
      "ASCII value of character  = 158\n",
      "\n",
      "ASCII value of character  = 159\n",
      "\n",
      "ASCII value of character   = 160\n",
      "\n",
      "ASCII value of character ¡ = 161\n",
      "\n",
      "ASCII value of character ¢ = 162\n",
      "\n",
      "ASCII value of character £ = 163\n",
      "\n",
      "ASCII value of character ¤ = 164\n",
      "\n",
      "ASCII value of character ¥ = 165\n",
      "\n",
      "ASCII value of character ¦ = 166\n",
      "\n",
      "ASCII value of character § = 167\n",
      "\n",
      "ASCII value of character ¨ = 168\n",
      "\n",
      "ASCII value of character © = 169\n",
      "\n",
      "ASCII value of character ª = 170\n",
      "\n",
      "ASCII value of character « = 171\n",
      "\n",
      "ASCII value of character ¬ = 172\n",
      "\n",
      "ASCII value of character ­ = 173\n",
      "\n",
      "ASCII value of character ® = 174\n",
      "\n",
      "ASCII value of character ¯ = 175\n",
      "\n",
      "ASCII value of character ° = 176\n",
      "\n",
      "ASCII value of character ± = 177\n",
      "\n",
      "ASCII value of character ² = 178\n",
      "\n",
      "ASCII value of character ³ = 179\n",
      "\n",
      "ASCII value of character ´ = 180\n",
      "\n",
      "ASCII value of character µ = 181\n",
      "\n",
      "ASCII value of character ¶ = 182\n",
      "\n",
      "ASCII value of character · = 183\n",
      "\n",
      "ASCII value of character ¸ = 184\n",
      "\n",
      "ASCII value of character ¹ = 185\n",
      "\n",
      "ASCII value of character º = 186\n",
      "\n",
      "ASCII value of character » = 187\n",
      "\n",
      "ASCII value of character ¼ = 188\n",
      "\n",
      "ASCII value of character ½ = 189\n",
      "\n",
      "ASCII value of character ¾ = 190\n",
      "\n",
      "ASCII value of character ¿ = 191\n",
      "\n",
      "ASCII value of character À = 192\n",
      "\n",
      "ASCII value of character Á = 193\n",
      "\n",
      "ASCII value of character Â = 194\n",
      "\n",
      "ASCII value of character Ã = 195\n",
      "\n",
      "ASCII value of character Ä = 196\n",
      "\n",
      "ASCII value of character Å = 197\n",
      "\n",
      "ASCII value of character Æ = 198\n",
      "\n",
      "ASCII value of character Ç = 199\n",
      "\n",
      "ASCII value of character È = 200\n",
      "\n",
      "ASCII value of character É = 201\n",
      "\n",
      "ASCII value of character Ê = 202\n",
      "\n",
      "ASCII value of character Ë = 203\n",
      "\n",
      "ASCII value of character Ì = 204\n",
      "\n",
      "ASCII value of character Í = 205\n",
      "\n",
      "ASCII value of character Î = 206\n",
      "\n",
      "ASCII value of character Ï = 207\n",
      "\n",
      "ASCII value of character Ð = 208\n",
      "\n",
      "ASCII value of character Ñ = 209\n",
      "\n",
      "ASCII value of character Ò = 210\n",
      "\n",
      "ASCII value of character Ó = 211\n",
      "\n",
      "ASCII value of character Ô = 212\n",
      "\n",
      "ASCII value of character Õ = 213\n",
      "\n",
      "ASCII value of character Ö = 214\n",
      "\n",
      "ASCII value of character × = 215\n",
      "\n",
      "ASCII value of character Ø = 216\n",
      "\n",
      "ASCII value of character Ù = 217\n",
      "\n",
      "ASCII value of character Ú = 218\n",
      "\n",
      "ASCII value of character Û = 219\n",
      "\n",
      "ASCII value of character Ü = 220\n",
      "\n",
      "ASCII value of character Ý = 221\n",
      "\n",
      "ASCII value of character Þ = 222\n",
      "\n",
      "ASCII value of character ß = 223\n",
      "\n",
      "ASCII value of character à = 224\n",
      "\n",
      "ASCII value of character á = 225\n",
      "\n",
      "ASCII value of character â = 226\n",
      "\n",
      "ASCII value of character ã = 227\n",
      "\n",
      "ASCII value of character ä = 228\n",
      "\n",
      "ASCII value of character å = 229\n",
      "\n",
      "ASCII value of character æ = 230\n",
      "\n",
      "ASCII value of character ç = 231\n",
      "\n",
      "ASCII value of character è = 232\n",
      "\n",
      "ASCII value of character é = 233\n",
      "\n",
      "ASCII value of character ê = 234\n",
      "\n",
      "ASCII value of character ë = 235\n",
      "\n",
      "ASCII value of character ì = 236\n",
      "\n",
      "ASCII value of character í = 237\n",
      "\n",
      "ASCII value of character î = 238\n",
      "\n",
      "ASCII value of character ï = 239\n",
      "\n",
      "ASCII value of character ð = 240\n",
      "\n",
      "ASCII value of character ñ = 241\n",
      "\n",
      "ASCII value of character ò = 242\n",
      "\n",
      "ASCII value of character ó = 243\n",
      "\n",
      "ASCII value of character ô = 244\n",
      "\n",
      "ASCII value of character õ = 245\n",
      "\n",
      "ASCII value of character ö = 246\n",
      "\n",
      "ASCII value of character ÷ = 247\n",
      "\n",
      "ASCII value of character ø = 248\n",
      "\n",
      "ASCII value of character ù = 249\n",
      "\n",
      "ASCII value of character ú = 250\n",
      "\n",
      "ASCII value of character û = 251\n",
      "\n",
      "ASCII value of character ü = 252\n",
      "\n",
      "ASCII value of character ý = 253\n",
      "\n",
      "ASCII value of character þ = 254\n",
      "\n"
     ]
    }
   ],
   "source": [
    " #13.\tto print all ASCII character with their values.\n",
    "    for i in range(255):\n",
    "        print(\"ASCII value of character %c = %d\\n\" %(i, i))\n",
    "   "
   ]
  },
  {
   "cell_type": "code",
   "execution_count": 7,
   "metadata": {
    "collapsed": false
   },
   "outputs": [
    {
     "name": "stdout",
     "output_type": "stream",
     "text": [
      "Please give me a string: hi i am hira\n",
      "Your string contains 5 vowels and 4 consonants.\n"
     ]
    }
   ],
   "source": [
    "#14.\tcount total number of vowels and consonants in a string\n",
    "\n",
    "data = input('Please give me a string: ')\n",
    "data = data.lower()\n",
    "vowels = ['a','e','i','o','u']\n",
    "consonants = ['b','c','d','f','g','h','j','k','l','m','n','p','q','r','s','t','v','w','x','y','z']\n",
    "vowelCount = 0\n",
    "consonantCount = 0\n",
    "\n",
    "\n",
    "for string in data:\n",
    "    for i in vowels:\n",
    "        if string == i:\n",
    "            vowelCount += 1\n",
    "    for i in consonants:\n",
    "        if string == i:\n",
    "            consonantCount += 1\n",
    "\n",
    "print('Your string contains %s vowels and %s consonants.' %(vowelCount, consonantCount))"
   ]
  },
  {
   "cell_type": "code",
   "execution_count": 15,
   "metadata": {
    "collapsed": false
   },
   "outputs": [
    {
     "name": "stdout",
     "output_type": "stream",
     "text": [
      "Enter a strig ->hello ,how are you?\n",
      "{'h': 2, 'e': 2, 'l': 2, 'o': 3, ' ': 3, ',': 1, 'w': 1, 'a': 1, 'r': 1, 'y': 1, 'u': 1, '?': 1}\n"
     ]
    }
   ],
   "source": [
    "#15.to find highest frequency character in a string.\n",
    "s = input(\"Enter a strig ->\")\n",
    "dic = {}\n",
    "for letter in s:\n",
    "    if letter not in dic.keys():\n",
    "        dic[letter] = 1\n",
    "    else:\n",
    "        dic[letter] += 1\n",
    "\n",
    "print(dic)\n"
   ]
  },
  {
   "cell_type": "code",
   "execution_count": 9,
   "metadata": {
    "collapsed": false
   },
   "outputs": [
    {
     "name": "stdout",
     "output_type": "stream",
     "text": [
      "Enter a strig ->hihihih\n",
      "hi\n"
     ]
    }
   ],
   "source": [
    "#16.\tremove all repeated characters from a given string\n",
    "s = input(\"Enter a strig ->\")\n",
    "result = []\n",
    "for c in s:\n",
    "    if c not in result:\n",
    "        result.append(c)\n",
    "result = ''.join(result)\n",
    "print(result)"
   ]
  },
  {
   "cell_type": "code",
   "execution_count": 1,
   "metadata": {
    "collapsed": false
   },
   "outputs": [
    {
     "name": "stdout",
     "output_type": "stream",
     "text": [
      "10\n"
     ]
    }
   ],
   "source": [
    "#17.\tDeclare a variable without breaking any of the rules\n",
    "a = 10\n",
    "print(a)\n"
   ]
  },
  {
   "cell_type": "code",
   "execution_count": 3,
   "metadata": {
    "collapsed": false
   },
   "outputs": [
    {
     "name": "stdout",
     "output_type": "stream",
     "text": [
      "('hi', 10, 3.7, True)\n"
     ]
    }
   ],
   "source": [
    "#20.\tWrite a program to create a tuple of 4 elements\n",
    "tupl = ('hi',10, 3.7, True)\n",
    "print(tupl)"
   ]
  },
  {
   "cell_type": "code",
   "execution_count": 6,
   "metadata": {
    "collapsed": false
   },
   "outputs": [
    {
     "name": "stdout",
     "output_type": "stream",
     "text": [
      "['hi', 10, 3.7, True]\n"
     ]
    }
   ],
   "source": [
    "#21.\tConvert this tuple into a list\n",
    "c = list(tupl)\n",
    "print(c)"
   ]
  },
  {
   "cell_type": "code",
   "execution_count": 10,
   "metadata": {
    "collapsed": false,
    "scrolled": true
   },
   "outputs": [
    {
     "name": "stdout",
     "output_type": "stream",
     "text": [
      "(10, 3.7, True)\n"
     ]
    }
   ],
   "source": [
    "#22.\tNow delete the first element in this list and convert it back to tuple\n",
    "a = c[1::]\n",
    "b = tuple(a)\n",
    "print(b)\n"
   ]
  },
  {
   "cell_type": "code",
   "execution_count": 12,
   "metadata": {
    "collapsed": false
   },
   "outputs": [
    {
     "name": "stdout",
     "output_type": "stream",
     "text": [
      "14\n"
     ]
    }
   ],
   "source": [
    "#23\n",
    "a = 2 + 3 * 4\n",
    "print(a)\n",
    "\n"
   ]
  },
  {
   "cell_type": "code",
   "execution_count": 14,
   "metadata": {
    "collapsed": false
   },
   "outputs": [
    {
     "data": {
      "text/plain": [
       "True"
      ]
     },
     "execution_count": 14,
     "metadata": {},
     "output_type": "execute_result"
    }
   ],
   "source": [
    "#24.\tUse a logical operator in between two comparison operators and return the value as true\n",
    "x = 5 \n",
    "y = 3\n",
    "x == y\n",
    "x >  y"
   ]
  },
  {
   "cell_type": "code",
   "execution_count": 16,
   "metadata": {
    "collapsed": false
   },
   "outputs": [
    {
     "name": "stdout",
     "output_type": "stream",
     "text": [
      "[10, 15, 20, 25, 20]\n",
      "[10, 15, 'hi', 25, 20]\n"
     ]
    }
   ],
   "source": [
    "#25.\tWrite a program to create a list of 5 elements Update the value at 3rd element of the list Create another list of 3 elements. Now create a final result as a concatenation of the first two list\n",
    "lst1 = [10, 15, 20, 25, 20]\n",
    "print(lst1)\n"
   ]
  },
  {
   "cell_type": "code",
   "execution_count": 18,
   "metadata": {
    "collapsed": false
   },
   "outputs": [
    {
     "name": "stdout",
     "output_type": "stream",
     "text": [
      "[10, 15, 'hi', 25, 20]\n"
     ]
    }
   ],
   "source": [
    "lst1[2] = 'hi'\n",
    "print(lst1)"
   ]
  },
  {
   "cell_type": "code",
   "execution_count": 19,
   "metadata": {
    "collapsed": false
   },
   "outputs": [
    {
     "name": "stdout",
     "output_type": "stream",
     "text": [
      "[10, 15, 'hi', 25, 20, 1, 2, 3]\n"
     ]
    }
   ],
   "source": [
    "lst2 = [1, 2, 3]\n",
    "lst3 = lst1 + lst2\n",
    "print(lst3)"
   ]
  },
  {
   "cell_type": "code",
   "execution_count": 20,
   "metadata": {
    "collapsed": true
   },
   "outputs": [],
   "source": [
    "#26 \n",
    "d = {'a':10, 'b': 20,'c':30, 'd':40, 'e':'50'}"
   ]
  },
  {
   "cell_type": "code",
   "execution_count": 25,
   "metadata": {
    "collapsed": true
   },
   "outputs": [],
   "source": [
    "d['a'] = 'good'"
   ]
  },
  {
   "cell_type": "code",
   "execution_count": 26,
   "metadata": {
    "collapsed": false
   },
   "outputs": [
    {
     "data": {
      "text/plain": [
       "{'a': 'good', 'b': 20, 'c': 30, 'd': 40, 'e': '50', 14: 'good', 0: 'good'}"
      ]
     },
     "execution_count": 26,
     "metadata": {},
     "output_type": "execute_result"
    }
   ],
   "source": [
    "d"
   ]
  },
  {
   "cell_type": "code",
   "execution_count": 34,
   "metadata": {
    "collapsed": false
   },
   "outputs": [
    {
     "name": "stdout",
     "output_type": "stream",
     "text": [
      "{'a': 'good', 'b': 20, 'c': 30, 'd': 40, 'e': '50', 14: 'good', 0: 'good', 'key1': 3, 'key2': 4}\n"
     ]
    }
   ],
   "source": [
    "d.update({'key1':3,'key2':4})\n",
    "dic = d\n",
    "print(d)  "
   ]
  },
  {
   "cell_type": "code",
   "execution_count": 37,
   "metadata": {
    "collapsed": false
   },
   "outputs": [
    {
     "name": "stdout",
     "output_type": "stream",
     "text": [
      "12\n",
      "False\n"
     ]
    }
   ],
   "source": [
    "#27.\twrite a program to check if a number is less than 10\n",
    "n = float(input())\n",
    "if n < 10:\n",
    "    print(True)\n",
    "else:\n",
    "    print(False)\n",
    "    "
   ]
  },
  {
   "cell_type": "code",
   "execution_count": 39,
   "metadata": {
    "collapsed": false
   },
   "outputs": [
    {
     "name": "stdout",
     "output_type": "stream",
     "text": [
      "5\n",
      "5 is a odd  number\n"
     ]
    }
   ],
   "source": [
    "#28.\tWrite a program to check if a given number is odd or even, \n",
    "n = int(input())\n",
    "if n%2 == 0:\n",
    "    print(n,\"is an even number\")\n",
    "else:\n",
    "    print(n,\"is a odd  number\")"
   ]
  },
  {
   "cell_type": "code",
   "execution_count": 1,
   "metadata": {
    "collapsed": false
   },
   "outputs": [
    {
     "name": "stdout",
     "output_type": "stream",
     "text": [
      "50\n",
      "This number is divisible by 10, 50 but not 30\n"
     ]
    }
   ],
   "source": [
    "\n",
    "#Write a program to check if a number is divisible by both 10 as well as 50. If it is divisible by 30 as well, print “This number is divisible by 10, 50 and 30”. If not, print “This number divisible by 10 and 50 but not 30”\n",
    "n = int(input())\n",
    "if n%10== 0 and n%50 == 0:\n",
    "    if n%30 == 0:\n",
    "        print(\"This number is divisible by 10, 50 and 30 \")\n",
    "    else:\n",
    "        print(\"This number is divisible by 10, 50 but not 30\")"
   ]
  },
  {
   "cell_type": "code",
   "execution_count": 3,
   "metadata": {
    "collapsed": false
   },
   "outputs": [
    {
     "name": "stdout",
     "output_type": "stream",
     "text": [
      "Inter number  6\n",
      "******\n"
     ]
    }
   ],
   "source": [
    "n = int(input('enter number  '))\n",
    "print('*'*n)"
   ]
  },
  {
   "cell_type": "code",
   "execution_count": 8,
   "metadata": {
    "collapsed": false
   },
   "outputs": [
    {
     "name": "stdout",
     "output_type": "stream",
     "text": [
      "enter number of row6\n",
      "enter number of column4\n",
      "* * * *  \n",
      "* * * *  \n",
      "* * * *  \n",
      "* * * *  \n",
      "* * * *  \n",
      "* * * *  \n"
     ]
    }
   ],
   "source": [
    "r = int(input('enter number of row'))\n",
    "c = int(input(\"enter number of column\"))\n",
    "for i in range(r):\n",
    "    for j in range(c):\n",
    "        print(\"*\",end=\" \")\n",
    "    print(\" \")"
   ]
  },
  {
   "cell_type": "code",
   "execution_count": 10,
   "metadata": {
    "collapsed": false
   },
   "outputs": [
    {
     "name": "stdout",
     "output_type": "stream",
     "text": [
      "Inter number  5\n",
      "*\n",
      "**\n",
      "***\n",
      "****\n",
      "*****\n"
     ]
    }
   ],
   "source": [
    "n = int(input('Enter number  '))\n",
    "for i in range(1, n+1):\n",
    "    print('*'*i)"
   ]
  },
  {
   "cell_type": "code",
   "execution_count": 16,
   "metadata": {
    "collapsed": false
   },
   "outputs": [
    {
     "name": "stdout",
     "output_type": "stream",
     "text": [
      "Enter number  5\n",
      "     *\n",
      "    **\n",
      "   ***\n",
      "  ****\n",
      " *****\n"
     ]
    }
   ],
   "source": [
    "n = int(input('Enter number  '))\n",
    "k = 0\n",
    "l = 1\n",
    "for i in range(n,0,-1):\n",
    "    k+=1\n",
    "    l+=1\n",
    "    print(' '*i,end='')\n",
    "    for j in range(k,l):\n",
    "        print('*'*j)"
   ]
  },
  {
   "cell_type": "code",
   "execution_count": 17,
   "metadata": {
    "collapsed": false
   },
   "outputs": [
    {
     "name": "stdout",
     "output_type": "stream",
     "text": [
      "enter number  5\n",
      "     *\n",
      "    ***\n",
      "   *****\n",
      "  *******\n",
      " *********\n"
     ]
    }
   ],
   "source": [
    "n = int(input('enter number  '))\n",
    "k = 0\n",
    "l = 1\n",
    "m = 0\n",
    "for i in range(n,0,-1):\n",
    "    k+=1\n",
    "    l+=1\n",
    "    print(' '*i,end='')\n",
    "    for j in range(k,l):\n",
    "        print('*'*(j+m),end='')\n",
    "    m+=1\n",
    "    print('')"
   ]
  },
  {
   "cell_type": "code",
   "execution_count": 18,
   "metadata": {
    "collapsed": false
   },
   "outputs": [
    {
     "name": "stdout",
     "output_type": "stream",
     "text": [
      "enter number  5\n",
      "     *\n",
      "    ***\n",
      "   *****\n",
      "  *******\n",
      " *********\n",
      "  *******\n",
      "   *****\n",
      "    ***\n",
      "     *\n"
     ]
    }
   ],
   "source": [
    "n = int(input('enter number  '))\n",
    "k = 0\n",
    "l = 1\n",
    "for i in range(n,0,-1):\n",
    "    k+=1\n",
    "    l+=1\n",
    "    print(' '*i,end='')\n",
    "    for j in range(k,l):\n",
    "        print('*'*j,end='')\n",
    "    for jj in range(k-1,l-1):\n",
    "        print('*'*jj)\n",
    "n = n -1\n",
    "k = n\n",
    "l = n + 1\n",
    "for i in range(2,n+2):\n",
    "    k-=1\n",
    "    l-=1\n",
    "    print(' '*i,end='')\n",
    "    for j in range(l,k,-1):\n",
    "        print('*'*j,end='')\n",
    "    for jj in range(l-1,k-1,-1):\n",
    "        print('*'*jj)"
   ]
  },
  {
   "cell_type": "code",
   "execution_count": null,
   "metadata": {
    "collapsed": true
   },
   "outputs": [],
   "source": []
  }
 ],
 "metadata": {
  "kernelspec": {
   "display_name": "Python 3",
   "language": "python",
   "name": "python3"
  },
  "language_info": {
   "codemirror_mode": {
    "name": "ipython",
    "version": 3
   },
   "file_extension": ".py",
   "mimetype": "text/x-python",
   "name": "python",
   "nbconvert_exporter": "python",
   "pygments_lexer": "ipython3",
   "version": "3.6.0"
  }
 },
 "nbformat": 4,
 "nbformat_minor": 2
}
